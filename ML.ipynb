{
  "nbformat": 4,
  "nbformat_minor": 0,
  "metadata": {
    "colab": {
      "provenance": []
    },
    "kernelspec": {
      "name": "python3",
      "display_name": "Python 3"
    },
    "language_info": {
      "name": "python"
    }
  },
  "cells": [
    {
      "cell_type": "code",
      "execution_count": 1,
      "metadata": {
        "id": "oJ4ZMGrpXQqx",
        "colab": {
          "base_uri": "https://localhost:8080/"
        },
        "outputId": "1d6d52c4-c651-44ac-8d96-27ea648dfebc"
      },
      "outputs": [
        {
          "output_type": "stream",
          "name": "stdout",
          "text": [
            "Drive already mounted at /content/drive; to attempt to forcibly remount, call drive.mount(\"/content/drive\", force_remount=True).\n"
          ]
        }
      ],
      "source": [
        "from google.colab import drive\n",
        "drive.mount('/content/drive')"
      ]
    },
    {
      "cell_type": "code",
      "source": [
        "import pandas as pd\n",
        "train = pd.read_csv(\"/content/drive/MyDrive/Colab Notebooks/Intern/intern_homework_train_dataset.csv\")\n",
        "valid = pd.read_csv(\"/content/drive/MyDrive/Colab Notebooks/Intern/intern_homework_public_test_dataset.csv\")\n",
        "test = pd.read_csv(\"/content/drive/MyDrive/Colab Notebooks/Intern/intern_homework_private_test_dataset.csv\")\n",
        "train.head()"
      ],
      "metadata": {
        "colab": {
          "base_uri": "https://localhost:8080/",
          "height": 444
        },
        "id": "nbbVqsN0MhdN",
        "outputId": "04f9fcab-f9b3-4c66-bf42-49c2a6f4b5be"
      },
      "execution_count": 29,
      "outputs": [
        {
          "output_type": "execute_result",
          "data": {
            "text/plain": [
              "      title               created_at  like_count_1h  like_count_2h  \\\n",
              "0     我的排骨湯  2022-10-05 14:20:21 UTC             12             15   \n",
              "1  #請益 婚禮穿搭  2022-10-05 14:28:13 UTC              0              0   \n",
              "2    無謂的啦啦隊  2022-10-06 07:18:22 UTC              3              7   \n",
              "3   文學理論 課本  2022-09-20 11:39:14 UTC              2              7   \n",
              "4      一般課程  2022-09-05 10:18:24 UTC              3              7   \n",
              "\n",
              "   like_count_3h  like_count_4h  like_count_5h  like_count_6h  \\\n",
              "0             15             15             16             18   \n",
              "1              3              4              4              4   \n",
              "2              8             11             12             14   \n",
              "3             11             24             26             26   \n",
              "4              7             10             10             11   \n",
              "\n",
              "   comment_count_1h  comment_count_2h  comment_count_3h  comment_count_4h  \\\n",
              "0                10                10                10                10   \n",
              "1                 2                 5                 8                 9   \n",
              "2                 1                 1                 2                 3   \n",
              "3                 2                 2                 8                32   \n",
              "4                15                26                35                38   \n",
              "\n",
              "   comment_count_5h  comment_count_6h  forum_id  author_id  forum_stats  \\\n",
              "0                10                10    598518     428921          0.7   \n",
              "1                 9                 9    399302     650840         63.9   \n",
              "2                 3                 3    650776     717288         19.2   \n",
              "3                38                63    471023     173889          7.9   \n",
              "4                48                49    230184     594332         36.2   \n",
              "\n",
              "   like_count_24h  \n",
              "0              26  \n",
              "1              11  \n",
              "2              19  \n",
              "3              29  \n",
              "4              16  "
            ],
            "text/html": [
              "\n",
              "  <div id=\"df-4d7a62d3-70fd-441c-962b-6e6b50de30bd\">\n",
              "    <div class=\"colab-df-container\">\n",
              "      <div>\n",
              "<style scoped>\n",
              "    .dataframe tbody tr th:only-of-type {\n",
              "        vertical-align: middle;\n",
              "    }\n",
              "\n",
              "    .dataframe tbody tr th {\n",
              "        vertical-align: top;\n",
              "    }\n",
              "\n",
              "    .dataframe thead th {\n",
              "        text-align: right;\n",
              "    }\n",
              "</style>\n",
              "<table border=\"1\" class=\"dataframe\">\n",
              "  <thead>\n",
              "    <tr style=\"text-align: right;\">\n",
              "      <th></th>\n",
              "      <th>title</th>\n",
              "      <th>created_at</th>\n",
              "      <th>like_count_1h</th>\n",
              "      <th>like_count_2h</th>\n",
              "      <th>like_count_3h</th>\n",
              "      <th>like_count_4h</th>\n",
              "      <th>like_count_5h</th>\n",
              "      <th>like_count_6h</th>\n",
              "      <th>comment_count_1h</th>\n",
              "      <th>comment_count_2h</th>\n",
              "      <th>comment_count_3h</th>\n",
              "      <th>comment_count_4h</th>\n",
              "      <th>comment_count_5h</th>\n",
              "      <th>comment_count_6h</th>\n",
              "      <th>forum_id</th>\n",
              "      <th>author_id</th>\n",
              "      <th>forum_stats</th>\n",
              "      <th>like_count_24h</th>\n",
              "    </tr>\n",
              "  </thead>\n",
              "  <tbody>\n",
              "    <tr>\n",
              "      <th>0</th>\n",
              "      <td>我的排骨湯</td>\n",
              "      <td>2022-10-05 14:20:21 UTC</td>\n",
              "      <td>12</td>\n",
              "      <td>15</td>\n",
              "      <td>15</td>\n",
              "      <td>15</td>\n",
              "      <td>16</td>\n",
              "      <td>18</td>\n",
              "      <td>10</td>\n",
              "      <td>10</td>\n",
              "      <td>10</td>\n",
              "      <td>10</td>\n",
              "      <td>10</td>\n",
              "      <td>10</td>\n",
              "      <td>598518</td>\n",
              "      <td>428921</td>\n",
              "      <td>0.7</td>\n",
              "      <td>26</td>\n",
              "    </tr>\n",
              "    <tr>\n",
              "      <th>1</th>\n",
              "      <td>#請益 婚禮穿搭</td>\n",
              "      <td>2022-10-05 14:28:13 UTC</td>\n",
              "      <td>0</td>\n",
              "      <td>0</td>\n",
              "      <td>3</td>\n",
              "      <td>4</td>\n",
              "      <td>4</td>\n",
              "      <td>4</td>\n",
              "      <td>2</td>\n",
              "      <td>5</td>\n",
              "      <td>8</td>\n",
              "      <td>9</td>\n",
              "      <td>9</td>\n",
              "      <td>9</td>\n",
              "      <td>399302</td>\n",
              "      <td>650840</td>\n",
              "      <td>63.9</td>\n",
              "      <td>11</td>\n",
              "    </tr>\n",
              "    <tr>\n",
              "      <th>2</th>\n",
              "      <td>無謂的啦啦隊</td>\n",
              "      <td>2022-10-06 07:18:22 UTC</td>\n",
              "      <td>3</td>\n",
              "      <td>7</td>\n",
              "      <td>8</td>\n",
              "      <td>11</td>\n",
              "      <td>12</td>\n",
              "      <td>14</td>\n",
              "      <td>1</td>\n",
              "      <td>1</td>\n",
              "      <td>2</td>\n",
              "      <td>3</td>\n",
              "      <td>3</td>\n",
              "      <td>3</td>\n",
              "      <td>650776</td>\n",
              "      <td>717288</td>\n",
              "      <td>19.2</td>\n",
              "      <td>19</td>\n",
              "    </tr>\n",
              "    <tr>\n",
              "      <th>3</th>\n",
              "      <td>文學理論 課本</td>\n",
              "      <td>2022-09-20 11:39:14 UTC</td>\n",
              "      <td>2</td>\n",
              "      <td>7</td>\n",
              "      <td>11</td>\n",
              "      <td>24</td>\n",
              "      <td>26</td>\n",
              "      <td>26</td>\n",
              "      <td>2</td>\n",
              "      <td>2</td>\n",
              "      <td>8</td>\n",
              "      <td>32</td>\n",
              "      <td>38</td>\n",
              "      <td>63</td>\n",
              "      <td>471023</td>\n",
              "      <td>173889</td>\n",
              "      <td>7.9</td>\n",
              "      <td>29</td>\n",
              "    </tr>\n",
              "    <tr>\n",
              "      <th>4</th>\n",
              "      <td>一般課程</td>\n",
              "      <td>2022-09-05 10:18:24 UTC</td>\n",
              "      <td>3</td>\n",
              "      <td>7</td>\n",
              "      <td>7</td>\n",
              "      <td>10</td>\n",
              "      <td>10</td>\n",
              "      <td>11</td>\n",
              "      <td>15</td>\n",
              "      <td>26</td>\n",
              "      <td>35</td>\n",
              "      <td>38</td>\n",
              "      <td>48</td>\n",
              "      <td>49</td>\n",
              "      <td>230184</td>\n",
              "      <td>594332</td>\n",
              "      <td>36.2</td>\n",
              "      <td>16</td>\n",
              "    </tr>\n",
              "  </tbody>\n",
              "</table>\n",
              "</div>\n",
              "      <button class=\"colab-df-convert\" onclick=\"convertToInteractive('df-4d7a62d3-70fd-441c-962b-6e6b50de30bd')\"\n",
              "              title=\"Convert this dataframe to an interactive table.\"\n",
              "              style=\"display:none;\">\n",
              "        \n",
              "  <svg xmlns=\"http://www.w3.org/2000/svg\" height=\"24px\"viewBox=\"0 0 24 24\"\n",
              "       width=\"24px\">\n",
              "    <path d=\"M0 0h24v24H0V0z\" fill=\"none\"/>\n",
              "    <path d=\"M18.56 5.44l.94 2.06.94-2.06 2.06-.94-2.06-.94-.94-2.06-.94 2.06-2.06.94zm-11 1L8.5 8.5l.94-2.06 2.06-.94-2.06-.94L8.5 2.5l-.94 2.06-2.06.94zm10 10l.94 2.06.94-2.06 2.06-.94-2.06-.94-.94-2.06-.94 2.06-2.06.94z\"/><path d=\"M17.41 7.96l-1.37-1.37c-.4-.4-.92-.59-1.43-.59-.52 0-1.04.2-1.43.59L10.3 9.45l-7.72 7.72c-.78.78-.78 2.05 0 2.83L4 21.41c.39.39.9.59 1.41.59.51 0 1.02-.2 1.41-.59l7.78-7.78 2.81-2.81c.8-.78.8-2.07 0-2.86zM5.41 20L4 18.59l7.72-7.72 1.47 1.35L5.41 20z\"/>\n",
              "  </svg>\n",
              "      </button>\n",
              "      \n",
              "  <style>\n",
              "    .colab-df-container {\n",
              "      display:flex;\n",
              "      flex-wrap:wrap;\n",
              "      gap: 12px;\n",
              "    }\n",
              "\n",
              "    .colab-df-convert {\n",
              "      background-color: #E8F0FE;\n",
              "      border: none;\n",
              "      border-radius: 50%;\n",
              "      cursor: pointer;\n",
              "      display: none;\n",
              "      fill: #1967D2;\n",
              "      height: 32px;\n",
              "      padding: 0 0 0 0;\n",
              "      width: 32px;\n",
              "    }\n",
              "\n",
              "    .colab-df-convert:hover {\n",
              "      background-color: #E2EBFA;\n",
              "      box-shadow: 0px 1px 2px rgba(60, 64, 67, 0.3), 0px 1px 3px 1px rgba(60, 64, 67, 0.15);\n",
              "      fill: #174EA6;\n",
              "    }\n",
              "\n",
              "    [theme=dark] .colab-df-convert {\n",
              "      background-color: #3B4455;\n",
              "      fill: #D2E3FC;\n",
              "    }\n",
              "\n",
              "    [theme=dark] .colab-df-convert:hover {\n",
              "      background-color: #434B5C;\n",
              "      box-shadow: 0px 1px 3px 1px rgba(0, 0, 0, 0.15);\n",
              "      filter: drop-shadow(0px 1px 2px rgba(0, 0, 0, 0.3));\n",
              "      fill: #FFFFFF;\n",
              "    }\n",
              "  </style>\n",
              "\n",
              "      <script>\n",
              "        const buttonEl =\n",
              "          document.querySelector('#df-4d7a62d3-70fd-441c-962b-6e6b50de30bd button.colab-df-convert');\n",
              "        buttonEl.style.display =\n",
              "          google.colab.kernel.accessAllowed ? 'block' : 'none';\n",
              "\n",
              "        async function convertToInteractive(key) {\n",
              "          const element = document.querySelector('#df-4d7a62d3-70fd-441c-962b-6e6b50de30bd');\n",
              "          const dataTable =\n",
              "            await google.colab.kernel.invokeFunction('convertToInteractive',\n",
              "                                                     [key], {});\n",
              "          if (!dataTable) return;\n",
              "\n",
              "          const docLinkHtml = 'Like what you see? Visit the ' +\n",
              "            '<a target=\"_blank\" href=https://colab.research.google.com/notebooks/data_table.ipynb>data table notebook</a>'\n",
              "            + ' to learn more about interactive tables.';\n",
              "          element.innerHTML = '';\n",
              "          dataTable['output_type'] = 'display_data';\n",
              "          await google.colab.output.renderOutput(dataTable, element);\n",
              "          const docLink = document.createElement('div');\n",
              "          docLink.innerHTML = docLinkHtml;\n",
              "          element.appendChild(docLink);\n",
              "        }\n",
              "      </script>\n",
              "    </div>\n",
              "  </div>\n",
              "  "
            ]
          },
          "metadata": {},
          "execution_count": 29
        }
      ]
    },
    {
      "cell_type": "code",
      "source": [
        "print(\"train data\\n\", train.isnull().sum())\n",
        "print(\"validation data\\n\",valid.isnull().sum())\n",
        "print(\"test data\\n\", test.isnull().sum())"
      ],
      "metadata": {
        "colab": {
          "base_uri": "https://localhost:8080/"
        },
        "id": "QFOUEjiUNNn0",
        "outputId": "21d91b4e-79ab-40c3-be60-8ee0ae62a444"
      },
      "execution_count": 3,
      "outputs": [
        {
          "output_type": "stream",
          "name": "stdout",
          "text": [
            "train data\n",
            " title               0\n",
            "created_at          0\n",
            "like_count_1h       0\n",
            "like_count_2h       0\n",
            "like_count_3h       0\n",
            "like_count_4h       0\n",
            "like_count_5h       0\n",
            "like_count_6h       0\n",
            "comment_count_1h    0\n",
            "comment_count_2h    0\n",
            "comment_count_3h    0\n",
            "comment_count_4h    0\n",
            "comment_count_5h    0\n",
            "comment_count_6h    0\n",
            "forum_id            0\n",
            "author_id           0\n",
            "forum_stats         0\n",
            "like_count_24h      0\n",
            "dtype: int64\n",
            "validation data\n",
            " title               0\n",
            "created_at          0\n",
            "like_count_1h       0\n",
            "like_count_2h       0\n",
            "like_count_3h       0\n",
            "like_count_4h       0\n",
            "like_count_5h       0\n",
            "like_count_6h       0\n",
            "comment_count_1h    0\n",
            "comment_count_2h    0\n",
            "comment_count_3h    0\n",
            "comment_count_4h    0\n",
            "comment_count_5h    0\n",
            "comment_count_6h    0\n",
            "forum_id            0\n",
            "author_id           0\n",
            "forum_stats         0\n",
            "like_count_24h      0\n",
            "dtype: int64\n",
            "test data\n",
            " title               0\n",
            "created_at          0\n",
            "like_count_1h       0\n",
            "like_count_2h       0\n",
            "like_count_3h       0\n",
            "like_count_4h       0\n",
            "like_count_5h       0\n",
            "like_count_6h       0\n",
            "comment_count_1h    0\n",
            "comment_count_2h    0\n",
            "comment_count_3h    0\n",
            "comment_count_4h    0\n",
            "comment_count_5h    0\n",
            "comment_count_6h    0\n",
            "forum_id            0\n",
            "author_id           0\n",
            "forum_stats         0\n",
            "dtype: int64\n"
          ]
        }
      ]
    },
    {
      "cell_type": "code",
      "source": [
        "train.nunique()"
      ],
      "metadata": {
        "colab": {
          "base_uri": "https://localhost:8080/"
        },
        "id": "UVJ6YBT4a-rq",
        "outputId": "e95d64fc-ac61-4c7a-8d5c-4297fc76c0e7"
      },
      "execution_count": 4,
      "outputs": [
        {
          "output_type": "execute_result",
          "data": {
            "text/plain": [
              "title               49158\n",
              "created_at          49654\n",
              "like_count_1h         112\n",
              "like_count_2h         185\n",
              "like_count_3h         250\n",
              "like_count_4h         308\n",
              "like_count_5h         380\n",
              "like_count_6h         438\n",
              "comment_count_1h      172\n",
              "comment_count_2h      216\n",
              "comment_count_3h      252\n",
              "comment_count_4h      277\n",
              "comment_count_5h      305\n",
              "comment_count_6h      331\n",
              "forum_id             1147\n",
              "author_id           32280\n",
              "forum_stats           221\n",
              "like_count_24h        940\n",
              "dtype: int64"
            ]
          },
          "metadata": {},
          "execution_count": 4
        }
      ]
    },
    {
      "cell_type": "code",
      "source": [
        "import matplotlib.pyplot as plt\n",
        "import seaborn as sns\n",
        "\n",
        "corrmat = train.corr()['like_count_24h']\n",
        "corrmat"
      ],
      "metadata": {
        "colab": {
          "base_uri": "https://localhost:8080/"
        },
        "id": "IH3ttpGRLmWI",
        "outputId": "f8601c65-3481-49f8-835f-a1f7586a147b"
      },
      "execution_count": 30,
      "outputs": [
        {
          "output_type": "execute_result",
          "data": {
            "text/plain": [
              "like_count_1h       0.398345\n",
              "like_count_2h       0.467885\n",
              "like_count_3h       0.559062\n",
              "like_count_4h       0.648533\n",
              "like_count_5h       0.713661\n",
              "like_count_6h       0.760585\n",
              "comment_count_1h    0.037055\n",
              "comment_count_2h    0.048422\n",
              "comment_count_3h    0.061782\n",
              "comment_count_4h    0.074955\n",
              "comment_count_5h    0.086810\n",
              "comment_count_6h    0.094525\n",
              "forum_id            0.028790\n",
              "author_id          -0.004098\n",
              "forum_stats         0.045711\n",
              "like_count_24h      1.000000\n",
              "Name: like_count_24h, dtype: float64"
            ]
          },
          "metadata": {},
          "execution_count": 30
        }
      ]
    },
    {
      "cell_type": "code",
      "source": [
        "train.drop(columns={'title','created_at','forum_id','author_id','forum_stats'}, inplace=True)\n",
        "valid.drop(columns={'title','created_at','forum_id','author_id','forum_stats'}, inplace=True)"
      ],
      "metadata": {
        "id": "DliUbF0uNUN6"
      },
      "execution_count": 5,
      "outputs": []
    },
    {
      "cell_type": "code",
      "source": [
        "import numpy as np\n",
        "X_train = np.array(train.iloc[:,:-1])\n",
        "X_valid = np.array(valid.iloc[:,:-1])\n",
        "y_train = np.array(train['like_count_24h'].tolist())\n",
        "y_valid = np.array(valid['like_count_24h'].tolist())"
      ],
      "metadata": {
        "id": "JPn1UMczOBCn"
      },
      "execution_count": 6,
      "outputs": []
    },
    {
      "cell_type": "code",
      "source": [
        "from sklearn.linear_model import LinearRegression\n",
        "from sklearn.metrics import mean_absolute_percentage_error\n",
        "\n",
        "model = LinearRegression()\n",
        "model.fit(X_train , y_train)\n",
        "#Predictions on Testing data\n",
        "y_pred = model.predict(X_valid) \n",
        "# around() Evenly round to the given number of decimals.\n",
        "r2 = r2_score(y_valid, np.around(y_pred,0))\n",
        "mse = mean_squared_error(y_valid, np.around(y_pred,0))\n",
        "mape = mean_absolute_percentage_error(y_valid, np.around(y_pred,0))*100\n",
        "\n",
        "print('MSE:', mse)\n",
        "print('R2 Score:', r2)\n",
        "print('MAPE:', mape)"
      ],
      "metadata": {
        "colab": {
          "base_uri": "https://localhost:8080/"
        },
        "id": "u38cDuqFOrlC",
        "outputId": "5026a885-15c9-4e0c-c25e-311b4606c762"
      },
      "execution_count": 31,
      "outputs": [
        {
          "output_type": "stream",
          "name": "stdout",
          "text": [
            "MSE: 13471.8647\n",
            "R2 Score: 0.5194420923678873\n",
            "MAPE: 87.97600954035927\n"
          ]
        }
      ]
    },
    {
      "cell_type": "code",
      "source": [
        "from sklearn.linear_model import LogisticRegression\n",
        "from sklearn.preprocessing import StandardScaler\n",
        "from sklearn.metrics import mean_squared_error, r2_score, mean_absolute_percentage_error\n",
        "sc_X = StandardScaler()\n",
        "X_train = sc_X.fit_transform(X_train)\n",
        "X_valid = sc_X.transform(X_valid)\n",
        "model_log = LogisticRegression()\n",
        "model_log.fit(X_train , y_train)\n",
        "# Predictions on Testing data\n",
        "y_pred = model_log.predict(X_valid) \n",
        "\n",
        "r2 = r2_score(y_valid, np.around(y_pred,0))\n",
        "mse = mean_squared_error(y_valid, np.around(y_pred,0))\n",
        "mape = mean_absolute_percentage_error(y_valid, np.around(y_pred,0))*100\n",
        "\n",
        "print('MSE:', mse)\n",
        "print('R2 Score:', r2)\n",
        "print('MAPE:', mape)"
      ],
      "metadata": {
        "id": "mtuKXIgjQ6BF",
        "colab": {
          "base_uri": "https://localhost:8080/"
        },
        "outputId": "cfadd276-0ebe-4d69-8f11-0e26f9a961c3"
      },
      "execution_count": 9,
      "outputs": [
        {
          "output_type": "stream",
          "name": "stderr",
          "text": [
            "/usr/local/lib/python3.9/dist-packages/sklearn/linear_model/_logistic.py:458: ConvergenceWarning: lbfgs failed to converge (status=1):\n",
            "STOP: TOTAL NO. of ITERATIONS REACHED LIMIT.\n",
            "\n",
            "Increase the number of iterations (max_iter) or scale the data as shown in:\n",
            "    https://scikit-learn.org/stable/modules/preprocessing.html\n",
            "Please also refer to the documentation for alternative solver options:\n",
            "    https://scikit-learn.org/stable/modules/linear_model.html#logistic-regression\n",
            "  n_iter_i = _check_optimize_result(\n"
          ]
        },
        {
          "output_type": "stream",
          "name": "stdout",
          "text": [
            "MSE: 24845.2405\n",
            "R2 Score: 0.11373985300664236\n",
            "MAPE: 40.81011815359801\n"
          ]
        }
      ]
    },
    {
      "cell_type": "code",
      "source": [
        "import numpy as np\n",
        "from sklearn.svm import SVR\n",
        "from sklearn.preprocessing import StandardScaler\n",
        "from sklearn.metrics import mean_squared_error, r2_score, mean_absolute_percentage_error"
      ],
      "metadata": {
        "id": "LHQMJ3C7Q3MS"
      },
      "execution_count": 10,
      "outputs": []
    },
    {
      "cell_type": "code",
      "source": [
        "# SVR C=1\n",
        "sc_X = StandardScaler()\n",
        "X_train = sc_X.fit_transform(X_train)\n",
        "X_valid = sc_X.transform(X_valid)\n",
        "svr = SVR(kernel='rbf')\n",
        "svr.fit(X_train, y_train)\n",
        "#Predictions on Testing data\n",
        "y_pred = svr.predict(X_valid)\n",
        "r2 = r2_score(y_valid, y_pred)\n",
        "mse = mean_squared_error(y_valid, y_pred)\n",
        "mape = mean_absolute_percentage_error(y_valid, np.around(y_pred,0))*100\n",
        "\n",
        "print('MSE:', mse)\n",
        "print('R2 Score:', r2)\n",
        "print('MAPE:', mape)"
      ],
      "metadata": {
        "colab": {
          "base_uri": "https://localhost:8080/"
        },
        "id": "H1PlIM6MnT_k",
        "outputId": "e9995310-3021-4f39-bfbf-359524bb80d1"
      },
      "execution_count": 11,
      "outputs": [
        {
          "output_type": "stream",
          "name": "stdout",
          "text": [
            "MSE: 23013.16228320222\n",
            "R2 Score: 0.17909232603754466\n",
            "MAPE: 36.62957492416708\n"
          ]
        }
      ]
    },
    {
      "cell_type": "code",
      "source": [
        "# SVR C=1e3\n",
        "sc_X = StandardScaler()\n",
        "X_train = sc_X.fit_transform(X_train)\n",
        "X_valid = sc_X.transform(X_valid)\n",
        "svr = SVR(kernel='rbf',C=1e3)\n",
        "svr.fit(X_train, y_train)\n",
        "#Predictions on Testing data\n",
        "y_pred = svr.predict(X_valid)\n",
        "r2 = r2_score(y_valid, y_pred)\n",
        "mse = mean_squared_error(y_valid, y_pred)\n",
        "mape = mean_absolute_percentage_error(y_valid, np.around(y_pred,0))*100\n",
        "\n",
        "print('MSE:', mse)\n",
        "print('R2 Score:', r2)\n",
        "print('MAPE:', mape)"
      ],
      "metadata": {
        "id": "P6AYvgpfjFvG",
        "colab": {
          "base_uri": "https://localhost:8080/"
        },
        "outputId": "e86b12d6-7361-43fe-d586-e585b7415b44"
      },
      "execution_count": 12,
      "outputs": [
        {
          "output_type": "stream",
          "name": "stdout",
          "text": [
            "MSE: 15019.091487019512\n",
            "R2 Score: 0.4642506185845696\n",
            "MAPE: 34.02267396110232\n"
          ]
        }
      ]
    },
    {
      "cell_type": "code",
      "source": [
        "test.drop(columns={'title','created_at','forum_id','author_id','forum_stats'}, inplace=True)\n",
        "result_test = np.array(test)\n",
        "result_pred = svr.predict(result_test)\n",
        "result_pred = pd.DataFrame(np.around(result_pred,0).astype(int), columns=['like_count_24h'])\n",
        "result_pred.to_csv(\"/content/drive/MyDrive/Colab Notebooks/Intern/result.csv\")  "
      ],
      "metadata": {
        "id": "Keqc8oYM045o"
      },
      "execution_count": 27,
      "outputs": []
    },
    {
      "cell_type": "markdown",
      "source": [],
      "metadata": {
        "id": "gDW2bEvXMmHq"
      }
    }
  ]
}